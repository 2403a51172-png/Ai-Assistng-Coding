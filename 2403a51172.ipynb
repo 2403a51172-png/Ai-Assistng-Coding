{
  "nbformat": 4,
  "nbformat_minor": 0,
  "metadata": {
    "colab": {
      "provenance": [],
      "authorship_tag": "ABX9TyMMKF44aeZzn3KTXHmv3mFy",
      "include_colab_link": true
    },
    "kernelspec": {
      "name": "python3",
      "display_name": "Python 3"
    },
    "language_info": {
      "name": "python"
    }
  },
  "cells": [
    {
      "cell_type": "markdown",
      "metadata": {
        "id": "view-in-github",
        "colab_type": "text"
      },
      "source": [
        "<a href=\"https://colab.research.google.com/github/2403a51172-png/Ai-Assistng-Coding/blob/main/2403a51172.ipynb\" target=\"_parent\"><img src=\"https://colab.research.google.com/assets/colab-badge.svg\" alt=\"Open In Colab\"/></a>"
      ]
    },
    {
      "cell_type": "markdown",
      "source": [
        "Task #1 – Syntax Error in Conditionals"
      ],
      "metadata": {
        "id": "G_1kNchu7ET1"
      }
    },
    {
      "cell_type": "code",
      "execution_count": 2,
      "metadata": {
        "colab": {
          "base_uri": "https://localhost:8080/"
        },
        "id": "lfPz2Lwo4-cd",
        "outputId": "f0c8e5fb-243e-4e7e-ad68-94df6e53dd02"
      },
      "outputs": [
        {
          "output_type": "stream",
          "name": "stdout",
          "text": [
            "Equal\n"
          ]
        }
      ],
      "source": [
        "a = 10\n",
        "if a == 10:\n",
        "    print(\"Equal\")"
      ]
    },
    {
      "cell_type": "markdown",
      "source": [
        "Explination:The error in the code is due to the use of a single equals sign (=) in the if statement.\n",
        "# In Python, a single equals sign is used for assignment, not for comparison.\n",
        "# To compare two values, we should use a double equals sign (==)."
      ],
      "metadata": {
        "id": "tnBTSzBKB8HM"
      }
    },
    {
      "cell_type": "markdown",
      "source": [
        "Task #2 – Loop Off-By-One Error."
      ],
      "metadata": {
        "id": "VnJpGWc58aHV"
      }
    },
    {
      "cell_type": "code",
      "source": [
        "def sum_upto_n(n):\n",
        "    total = 0\n",
        "    for i in range(1, n+1):\n",
        "        total += i\n",
        "    return total\n",
        "print(sum_upto_n(5))"
      ],
      "metadata": {
        "colab": {
          "base_uri": "https://localhost:8080/"
        },
        "id": "oElj7Rqu7DR0",
        "outputId": "51bb903a-9573-423c-d714-7de2435b2930"
      },
      "execution_count": 17,
      "outputs": [
        {
          "output_type": "stream",
          "name": "stdout",
          "text": [
            "15\n"
          ]
        }
      ]
    },
    {
      "cell_type": "markdown",
      "source": [
        "Explination:\n",
        "The original code has an off-by-one error in the range function.\n",
        " The range(1, n) function generates numbers from 1 to n-1, so it misses the value n\n",
        "To fix this, we should change the range to range(1, n+1) to include n in the sum."
      ],
      "metadata": {
        "id": "jRWqz_ftDACk"
      }
    },
    {
      "cell_type": "markdown",
      "source": [
        "Task #3-Error: **AttributeError**"
      ],
      "metadata": {
        "id": "T2PVAXKU8fPk"
      }
    },
    {
      "cell_type": "code",
      "source": [
        "class User:\n",
        "    def __init__(self, name):\n",
        "        self.name = name\n",
        "\n",
        "u = User(\"Alice\")\n",
        "print(u.name)"
      ],
      "metadata": {
        "colab": {
          "base_uri": "https://localhost:8080/"
        },
        "id": "NIIkX6zY7lrV",
        "outputId": "a2b16f48-5fb5-4de0-bfcb-e6c907b5f171"
      },
      "execution_count": 11,
      "outputs": [
        {
          "output_type": "stream",
          "name": "stdout",
          "text": [
            "Alice\n"
          ]
        }
      ]
    },
    {
      "cell_type": "markdown",
      "source": [
        "Explination:\n",
        "The error occurs because the User class does not have a method called getName().\n",
        " When we try to call u.getName(), Python looks for this method in the User class\n",
        "and doesn't find it, resulting in an AttributeError.\n",
        "To fix this, we can define a method called getName() in the User class."
      ],
      "metadata": {
        "id": "N26ZWk_gEBKk"
      }
    },
    {
      "cell_type": "markdown",
      "source": [
        "Task #4-Incorrect Class Attribute Initialization"
      ],
      "metadata": {
        "id": "U3kkai_q80lt"
      }
    },
    {
      "cell_type": "code",
      "source": [
        "class Car:\n",
        "    def start(self):\n",
        "        print(\"Car started\")\n",
        "\n",
        "mycar = Car()\n",
        "mycar.start()"
      ],
      "metadata": {
        "colab": {
          "base_uri": "https://localhost:8080/"
        },
        "id": "1BvKLGD37vOt",
        "outputId": "41bf3e2e-91a8-42f4-a1ee-365f8c4fcd74"
      },
      "execution_count": 13,
      "outputs": [
        {
          "output_type": "stream",
          "name": "stdout",
          "text": [
            "Car started\n"
          ]
        }
      ]
    },
    {
      "cell_type": "markdown",
      "source": [
        "Explination:\n",
        "The error in the original code is that the method 'start' was defined without 'self' as its first parameter.\n",
        " In Python, instance methods must have 'self' as the first parameter to refer to the instance"
      ],
      "metadata": {
        "id": "YOLNzsJnFZaM"
      }
    },
    {
      "cell_type": "markdown",
      "source": [
        "Task #5-Conditional Logic Error in Grading System"
      ],
      "metadata": {
        "id": "y_bFq409877l"
      }
    },
    {
      "cell_type": "code",
      "source": [
        "def grade_student(score):\n",
        "    if score < 40:\n",
        "        return \"A\"\n",
        "    elif score < 70:\n",
        "        return \"B\"\n",
        "    else:\n",
        "        return \"C\"\n",
        "print(grade_student(55))\n"
      ],
      "metadata": {
        "colab": {
          "base_uri": "https://localhost:8080/"
        },
        "id": "D4GNbkbW9S-F",
        "outputId": "d401bc4b-4451-40af-fddf-0b3422fc213d"
      },
      "execution_count": 16,
      "outputs": [
        {
          "output_type": "stream",
          "name": "stdout",
          "text": [
            "B\n"
          ]
        }
      ]
    },
    {
      "cell_type": "markdown",
      "source": [
        "Explination:\n",
        "The grading scale is incorrect. Typically, a score below 40 should receive a \"C\", scores between 40 and 69 should receive a \"B\", and scores 70 and above should receive an \"A\". The conditions need to be adjusted accordingly"
      ],
      "metadata": {
        "id": "jks_bfAhF21b"
      }
    }
  ]
}