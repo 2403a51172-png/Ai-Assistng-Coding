{
  "nbformat": 4,
  "nbformat_minor": 0,
  "metadata": {
    "colab": {
      "provenance": [],
      "authorship_tag": "ABX9TyNc/nm7tCgo7ZMlVfBNwP8l",
      "include_colab_link": true
    },
    "kernelspec": {
      "name": "python3",
      "display_name": "Python 3"
    },
    "language_info": {
      "name": "python"
    }
  },
  "cells": [
    {
      "cell_type": "markdown",
      "metadata": {
        "id": "view-in-github",
        "colab_type": "text"
      },
      "source": [
        "<a href=\"https://colab.research.google.com/github/harshitha-reddy-06/Ai-Assistng-Coding/blob/main/Untitled2.ipynb\" target=\"_parent\"><img src=\"https://colab.research.google.com/assets/colab-badge.svg\" alt=\"Open In Colab\"/></a>"
      ]
    },
    {
      "cell_type": "markdown",
      "source": [
        "Task1"
      ],
      "metadata": {
        "id": "Kd6_xiUNWpxo"
      }
    },
    {
      "cell_type": "code",
      "metadata": {
        "colab": {
          "base_uri": "https://localhost:8080/"
        },
        "id": "05db6b4e",
        "outputId": "49ab9862-5c79-46e9-8966-8e1a1a084e5f"
      },
      "source": [
        "def calculate_compound_interest(principal, rate, n, time):\n",
        "\n",
        "\n",
        "  amount = principal * (1 + rate/n)**(n*time)\n",
        "  compound_interest = amount - principal\n",
        "  return compound_interest\n",
        "\n",
        "\n",
        "principal = 10000\n",
        "rate = 0.05\n",
        "n = 2\n",
        "time = 3\n",
        "interest = calculate_compound_interest(principal, rate, n, time)\n",
        "print(f\"Compound interest: {interest}\")"
      ],
      "execution_count": 27,
      "outputs": [
        {
          "output_type": "stream",
          "name": "stdout",
          "text": [
            "Compound interest: 1596.9341821289\n"
          ]
        }
      ]
    },
    {
      "cell_type": "markdown",
      "source": [
        "Task2"
      ],
      "metadata": {
        "id": "eLJBAYKFXNJC"
      }
    },
    {
      "cell_type": "code",
      "execution_count": 2,
      "metadata": {
        "colab": {
          "base_uri": "https://localhost:8080/"
        },
        "id": "fhxZpt77NJ1h",
        "outputId": "37fc56a9-efe3-4310-af62-31215652e826"
      },
      "outputs": [
        {
          "output_type": "stream",
          "name": "stdout",
          "text": [
            "{'average': 3.7142857142857144, 'median': 4, 'mode': 5}\n",
            "{'average': 2.0, 'median': 2.0, 'mode': [1, 2, 3]}\n"
          ]
        }
      ],
      "source": [
        "\n",
        "from collections import Counter\n",
        "\n",
        "def calculate_stats(numbers):\n",
        "  if not numbers:\n",
        "    return {\"average\": None, \"median\": None, \"mode\": None}\n",
        "\n",
        "  average = sum(numbers) / len(numbers)\n",
        "\n",
        "\n",
        "  sorted_numbers = sorted(numbers)\n",
        "  n = len(sorted_numbers)\n",
        "  mid_index = n // 2\n",
        "  if n % 2 == 0:\n",
        "    median = (sorted_numbers[mid_index - 1] + sorted_numbers[mid_index]) / 2\n",
        "  else:\n",
        "    median = sorted_numbers[mid_index]\n",
        "\n",
        "\n",
        "  counts = Counter(numbers)\n",
        "  max_count = max(counts.values())\n",
        "  mode = [num for num, count in counts.items() if count == max_count]\n",
        "\n",
        "  if len(mode) == len(numbers):\n",
        "      mode = \"No unique mode\"\n",
        "  elif len(mode) == 1:\n",
        "      mode = mode[0]\n",
        "\n",
        "\n",
        "  return {\"average\": average, \"median\": median, \"mode\": mode}\n",
        "\n",
        "\n",
        "my_list = [1, 2, 3, 4, 5, 5, 6]\n",
        "stats = calculate_stats(my_list)\n",
        "print(stats)\n",
        "\n",
        "my_list_2 = [1, 1, 2, 2, 3, 3]\n",
        "stats_2 = calculate_stats(my_list_2)\n",
        "print(stats_2)"
      ]
    },
    {
      "cell_type": "markdown",
      "source": [
        "Task3"
      ],
      "metadata": {
        "id": "XP5z2JpnW5zS"
      }
    },
    {
      "cell_type": "code",
      "metadata": {
        "colab": {
          "base_uri": "https://localhost:8080/"
        },
        "id": "a38f1893",
        "outputId": "56fd62c5-f000-4d77-fa8e-81c990c60a34"
      },
      "source": [
        "def convert_to_binary(num):\n",
        "\n",
        "  if num == 0:\n",
        "    return '0'\n",
        "  binary = ''\n",
        "  while num > 0:\n",
        "    binary = str(num % 2) + binary\n",
        "    num = num // 2\n",
        "  return binary\n",
        "\n",
        "# You can test the function with the examples from the markdown cell:\n",
        "print(f\"Binary of 5: {convert_to_binary(5)}\")\n",
        "print(f\"Binary of 10: {convert_to_binary(10)}\")\n",
        "print(f\"Binary of 0: {convert_to_binary(0)}\")\n",
        "print(f\"Binary of 1: {convert_to_binary(1)}\")\n",
        "print(f\"Binary of 13: {convert_to_binary(13)}\")"
      ],
      "execution_count": 3,
      "outputs": [
        {
          "output_type": "stream",
          "name": "stdout",
          "text": [
            "Binary of 5: 101\n",
            "Binary of 10: 1010\n",
            "Binary of 0: 0\n",
            "Binary of 1: 1\n",
            "Binary of 13: 1101\n"
          ]
        }
      ]
    },
    {
      "cell_type": "markdown",
      "source": [
        "Task4"
      ],
      "metadata": {
        "id": "dsRi8LWSW_wI"
      }
    },
    {
      "cell_type": "code",
      "source": [
        "\n",
        "customer = Customer(\"Harshitha Reddy\", \"C1003\")\n",
        "\n",
        "# Predefined room details\n",
        "room = Room(\"301\", \"Suite\", 250.00)\n",
        "customer.room = room\n",
        "\n",
        "# Predefined service details\n",
        "services = [\n",
        "    Service(\"Dinner\", 50.00),\n",
        "    Service(\"Spa\", 100.00)\n",
        "]\n",
        "customer.services_used = services\n",
        "\n",
        "# Predefined stay duration\n",
        "duration = 3 # nights\n",
        "\n",
        "# Create and display the bill\n",
        "bill = Bill(customer, duration)\n",
        "bill.display_bill()"
      ],
      "metadata": {
        "colab": {
          "base_uri": "https://localhost:8080/"
        },
        "id": "Fc173pKbP4E6",
        "outputId": "7f79430e-1a99-448f-aeee-2d60c230ddee"
      },
      "execution_count": 13,
      "outputs": [
        {
          "output_type": "stream",
          "name": "stdout",
          "text": [
            "--- Hotel Bill ---\n",
            "Customer: Harshitha Reddy (ID: C1003)\n",
            "Stay Duration: 3 nights\n",
            "\n",
            "Items:\n",
            "- Room 301 (Suite): $250.0 per night\n",
            "- Dinner: $50.0\n",
            "- Spa: $100.0\n",
            "\n",
            "Total Amount: $900.00\n",
            "------------------\n"
          ]
        }
      ]
    },
    {
      "cell_type": "markdown",
      "metadata": {
        "id": "eae2a69a"
      },
      "source": [
        "This code provides a simple command-line interface to collect customer, room, and service information and generate a bill using the previously defined classes."
      ]
    },
    {
      "cell_type": "markdown",
      "source": [
        "Task5"
      ],
      "metadata": {
        "id": "teoJcSuCXGFW"
      }
    },
    {
      "cell_type": "code",
      "metadata": {
        "colab": {
          "base_uri": "https://localhost:8080/"
        },
        "id": "5283e80e",
        "outputId": "30a46d1b-a7e8-4a35-bd3a-457d1f91e24f"
      },
      "source": [
        "def convert_temperature(value, unit):\n",
        "  \"\"\"Converts a temperature value between Celsius and Fahrenheit.\"\"\"\n",
        "  if unit.lower() == 'celsius':\n",
        "    # Convert Celsius to Fahrenheit\n",
        "    return (value * 9/5) + 32\n",
        "  elif unit.lower() == 'fahrenheit':\n",
        "    # Convert Fahrenheit to Celsius\n",
        "    return (value - 32) * 5/9\n",
        "  else:\n",
        "    return \"Invalid unit. Please specify 'Celsius' or 'Fahrenheit'.\"\n",
        "\n",
        "# Example usage:\n",
        "celsius_temp = 25\n",
        "fahrenheit_temp = convert_temperature(celsius_temp, 'Celsius')\n",
        "print(f\"{celsius_temp} Celsius is {fahrenheit_temp} Fahrenheit\")\n",
        "\n",
        "fahrenheit_temp = 77\n",
        "celsius_temp = convert_temperature(fahrenheit_temp, 'Fahrenheit')\n",
        "print(f\"{fahrenheit_temp} Fahrenheit is {celsius_temp} Celsius\")"
      ],
      "execution_count": 21,
      "outputs": [
        {
          "output_type": "stream",
          "name": "stdout",
          "text": [
            "25 Celsius is 77.0 Fahrenheit\n",
            "77 Fahrenheit is 25.0 Celsius\n"
          ]
        }
      ]
    },
    {
      "cell_type": "markdown",
      "metadata": {
        "id": "d1626b53"
      },
      "source": [
        "# Task\n",
        "Write a Python function to calculate compound interest. The function should include a docstring and input-output examples."
      ]
    },
    {
      "cell_type": "markdown",
      "metadata": {
        "id": "57516fb3"
      },
      "source": [
        "## Define the function name\n",
        "\n",
        "### Subtask:\n",
        "Create a Python function with a descriptive name for calculating compound interest.\n"
      ]
    },
    {
      "cell_type": "markdown",
      "metadata": {
        "id": "1b563d69"
      },
      "source": [
        "**Reasoning**:\n",
        "Define a Python function with a descriptive name and parameters for calculating compound interest.\n",
        "\n"
      ]
    }
  ]
}