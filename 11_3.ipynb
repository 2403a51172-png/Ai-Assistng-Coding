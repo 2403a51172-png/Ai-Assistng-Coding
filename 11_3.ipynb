{
  "nbformat": 4,
  "nbformat_minor": 0,
  "metadata": {
    "colab": {
      "provenance": [],
      "authorship_tag": "ABX9TyM3C5liuH2TY8s81htZ0zcj",
      "include_colab_link": true
    },
    "kernelspec": {
      "name": "python3",
      "display_name": "Python 3"
    },
    "language_info": {
      "name": "python"
    }
  },
  "cells": [
    {
      "cell_type": "markdown",
      "metadata": {
        "id": "view-in-github",
        "colab_type": "text"
      },
      "source": [
        "<a href=\"https://colab.research.google.com/github/2403a51172-png/Ai-Assistng-Coding/blob/main/11_3.ipynb\" target=\"_parent\"><img src=\"https://colab.research.google.com/assets/colab-badge.svg\" alt=\"Open In Colab\"/></a>"
      ]
    },
    {
      "cell_type": "markdown",
      "source": [
        "Task 1: Ask AI to implement a stack class with push(), pop(), peek() and\n",
        "is_empty() methods"
      ],
      "metadata": {
        "id": "BRmtCq7JgPS9"
      }
    },
    {
      "cell_type": "code",
      "metadata": {
        "colab": {
          "base_uri": "https://localhost:8080/"
        },
        "id": "1e87e707",
        "outputId": "fc211029-a0f6-4b8b-af6d-fc2464b81183"
      },
      "source": [
        "class Stack:\n",
        "    def __init__(self):\n",
        "        self.items = []\n",
        "\n",
        "    def push(self, item):\n",
        "        \"\"\"Adds an item to the top of the stack.\"\"\"\n",
        "        self.items.append(item)\n",
        "\n",
        "    def pop(self):\n",
        "        \"\"\"Removes and returns the item from the top of the stack.\"\"\"\n",
        "        if not self.is_empty():\n",
        "            return self.items.pop()\n",
        "        else:\n",
        "            return None  # Or raise an exception\n",
        "\n",
        "    def peek(self):\n",
        "        \"\"\"Returns the item at the top of the stack without removing it.\"\"\"\n",
        "        if not self.is_empty():\n",
        "            return self.items[-1]\n",
        "        else:\n",
        "            return None  # Or raise an exception\n",
        "\n",
        "    def is_empty(self):\n",
        "        \"\"\"Checks if the stack is empty.\"\"\"\n",
        "        return len(self.items) == 0\n",
        "\n",
        "    def size(self):\n",
        "        \"\"\"Returns the number of items in the stack.\"\"\"\n",
        "        return len(self.items)\n",
        "\n",
        "# Example usage:\n",
        "my_stack = Stack()\n",
        "my_stack.push(10)\n",
        "my_stack.push(20)\n",
        "print(my_stack.peek())  # Output: 20\n",
        "print(my_stack.pop())   # Output: 20\n",
        "print(my_stack.is_empty()) # Output: False"
      ],
      "execution_count": 5,
      "outputs": [
        {
          "output_type": "stream",
          "name": "stdout",
          "text": [
            "20\n",
            "20\n",
            "False\n"
          ]
        }
      ]
    },
    {
      "cell_type": "markdown",
      "source": [
        "task 2: Use AI to generate a Queue class with enqueue(), dequeue(), and\n",
        "is_empty()"
      ],
      "metadata": {
        "id": "wsmbImYTfm9W"
      }
    },
    {
      "cell_type": "code",
      "metadata": {
        "colab": {
          "base_uri": "https://localhost:8080/"
        },
        "id": "d8120cb3",
        "outputId": "a2892242-6121-4a66-c6e1-a8404d4a0c02"
      },
      "source": [
        "class Queue:\n",
        "    def __init__(self):\n",
        "        self.items = []\n",
        "\n",
        "    def enqueue(self, item):\n",
        "        \"\"\"Adds an item to the end of the queue.\"\"\"\n",
        "        self.items.append(item)\n",
        "\n",
        "    def dequeue(self):\n",
        "        \"\"\"Removes and returns the item from the front of the queue.\"\"\"\n",
        "        if not self.is_empty():\n",
        "            return self.items.pop(0)\n",
        "        else:\n",
        "            return None  # Or raise an exception\n",
        "\n",
        "    def is_empty(self):\n",
        "        \"\"\"Checks if the queue is empty.\"\"\"\n",
        "        return len(self.items) == 0\n",
        "\n",
        "    def size(self):\n",
        "        \"\"\"Returns the number of items in the queue.\"\"\"\n",
        "        return len(self.items)\n",
        "\n",
        "# Example usage:\n",
        "my_queue = Queue()\n",
        "my_queue.enqueue(10)\n",
        "my_queue.enqueue(20)\n",
        "print(my_queue.dequeue())  # Output: 10\n",
        "print(my_queue.is_empty()) # Output: False"
      ],
      "execution_count": 9,
      "outputs": [
        {
          "output_type": "stream",
          "name": "stdout",
          "text": [
            "10\n",
            "False\n"
          ]
        }
      ]
    },
    {
      "cell_type": "markdown",
      "source": [
        "Task 3: Ask AI to create a singly linked list with insert_at_end(),\n",
        "insert_at_beginning(), and display()."
      ],
      "metadata": {
        "id": "Ri-XgiGXgf49"
      }
    },
    {
      "cell_type": "code",
      "metadata": {
        "colab": {
          "base_uri": "https://localhost:8080/"
        },
        "id": "f30a9a24",
        "outputId": "b85ab6f2-8a08-452b-b285-ce4b557a28ca"
      },
      "source": [
        "class Node:\n",
        "    def __init__(self, data):\n",
        "        self.data = data\n",
        "        self.next = None\n",
        "\n",
        "class SinglyLinkedList:\n",
        "    def __init__(self):\n",
        "        self.head = None\n",
        "\n",
        "    def insert_at_beginning(self, data):\n",
        "        \"\"\"Inserts a new node at the beginning of the linked list.\"\"\"\n",
        "        new_node = Node(data)\n",
        "        new_node.next = self.head\n",
        "        self.head = new_node\n",
        "\n",
        "    def insert_at_end(self, data):\n",
        "        \"\"\"Inserts a new node at the end of the linked list.\"\"\"\n",
        "        new_node = Node(data)\n",
        "        if self.head is None:\n",
        "            self.head = new_node\n",
        "            return\n",
        "        last_node = self.head\n",
        "        while last_node.next:\n",
        "            last_node = last_node.next\n",
        "        last_node.next = new_node\n",
        "\n",
        "    def display(self):\n",
        "        \"\"\"Prints the elements of the linked list.\"\"\"\n",
        "        current = self.head\n",
        "        while current:\n",
        "            print(current.data, end=\" -> \")\n",
        "            current = current.next\n",
        "        print(\"None\")\n",
        "\n",
        "# Example usage:\n",
        "my_list = SinglyLinkedList()\n",
        "my_list.insert_at_beginning(10)\n",
        "my_list.insert_at_end(20)\n",
        "my_list.insert_at_beginning(5)\n",
        "my_list.display() # Output: 5 -> 10 -> 20 -> None"
      ],
      "execution_count": 14,
      "outputs": [
        {
          "output_type": "stream",
          "name": "stdout",
          "text": [
            "5 -> 10 -> 20 -> None\n"
          ]
        }
      ]
    },
    {
      "cell_type": "markdown",
      "source": [
        "Task 4: Ask AI to generate a simple BST with insert() and\n",
        "inorder_traversal()."
      ],
      "metadata": {
        "id": "YTKWFfUcgnMl"
      }
    },
    {
      "cell_type": "code",
      "metadata": {
        "colab": {
          "base_uri": "https://localhost:8080/"
        },
        "id": "35fe6b89",
        "outputId": "909a308f-238e-4d1d-a34b-afd2e2f2f117"
      },
      "source": [
        "class Node:\n",
        "    def __init__(self, key):\n",
        "        self.left = None\n",
        "        self.right = None\n",
        "        self.val = key\n",
        "\n",
        "class BST:\n",
        "    def __init__(self):\n",
        "        self.root = None\n",
        "\n",
        "    def insert(self, key):\n",
        "        \"\"\"Inserts a new node with the given key into the BST.\"\"\"\n",
        "        if self.root is None:\n",
        "            self.root = Node(key)\n",
        "        else:\n",
        "            self._insert_recursive(self.root, key)\n",
        "\n",
        "    def _insert_recursive(self, root, key):\n",
        "        if key < root.val:\n",
        "            if root.left is None:\n",
        "                root.left = Node(key)\n",
        "            else:\n",
        "                self._insert_recursive(root.left, key)\n",
        "        else:\n",
        "            if root.right is None:\n",
        "                root.right = Node(key)\n",
        "            else:\n",
        "                self._insert_recursive(root.right, key)\n",
        "\n",
        "    def inorder_traversal(self):\n",
        "        \"\"\"Performs an in-order traversal of the BST and prints the elements.\"\"\"\n",
        "        if self.root is not None:\n",
        "            self._inorder_recursive(self.root)\n",
        "        else:\n",
        "            print(\"BST is empty\")\n",
        "\n",
        "    def _inorder_recursive(self, root):\n",
        "        if root:\n",
        "            self._inorder_recursive(root.left)\n",
        "            print(root.val, end=\" \")\n",
        "            self._inorder_recursive(root.right)\n",
        "\n",
        "# Example usage:\n",
        "my_bst = BST()\n",
        "my_bst.insert(50)\n",
        "my_bst.insert(30)\n",
        "my_bst.insert(20)\n",
        "my_bst.insert(40)\n",
        "my_bst.insert(70)\n",
        "my_bst.insert(60)\n",
        "my_bst.insert(80)\n",
        "\n",
        "print(\"In-order traversal:\")\n",
        "my_bst.inorder_traversal() # Output: 20 30 40 50 60 70 80"
      ],
      "execution_count": 19,
      "outputs": [
        {
          "output_type": "stream",
          "name": "stdout",
          "text": [
            "In-order traversal:\n",
            "20 30 40 50 60 70 80 "
          ]
        }
      ]
    }
  ]
}