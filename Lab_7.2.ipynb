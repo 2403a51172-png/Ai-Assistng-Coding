{
  "nbformat": 4,
  "nbformat_minor": 0,
  "metadata": {
    "colab": {
      "provenance": [],
      "authorship_tag": "ABX9TyMSMB5s/hk3XxtqJuuIQHIN",
      "include_colab_link": true
    },
    "kernelspec": {
      "name": "python3",
      "display_name": "Python 3"
    },
    "language_info": {
      "name": "python"
    }
  },
  "cells": [
    {
      "cell_type": "markdown",
      "metadata": {
        "id": "view-in-github",
        "colab_type": "text"
      },
      "source": [
        "<a href=\"https://colab.research.google.com/github/harshitha-reddy-06/Ai-Assistng-Coding/blob/main/Lab_7.2.ipynb\" target=\"_parent\"><img src=\"https://colab.research.google.com/assets/colab-badge.svg\" alt=\"Open In Colab\"/></a>"
      ]
    },
    {
      "cell_type": "code",
      "source": [
        "Task#1-Syntax Error in Conditionals"
      ],
      "metadata": {
        "id": "PlcjIf7D5xeS"
      },
      "execution_count": null,
      "outputs": []
    },
    {
      "cell_type": "markdown",
      "source": [],
      "metadata": {
        "id": "56N2va2e5w7U"
      }
    },
    {
      "cell_type": "code",
      "execution_count": 1,
      "metadata": {
        "colab": {
          "base_uri": "https://localhost:8080/"
        },
        "id": "GpCaoUeO5U-6",
        "outputId": "b746dbe6-f06c-4595-c63f-636720d0eab9"
      },
      "outputs": [
        {
          "output_type": "stream",
          "name": "stdout",
          "text": [
            "Equal\n"
          ]
        }
      ],
      "source": [
        "a = 10\n",
        "if a == 10:\n",
        "  print(\"Equal\")"
      ]
    },
    {
      "cell_type": "markdown",
      "source": [
        "Task#2- Loop Off-By-One Error"
      ],
      "metadata": {
        "id": "VPdvuVd657LQ"
      }
    },
    {
      "cell_type": "code",
      "source": [
        "def sum_upto_n(n):\n",
        "  total = 0\n",
        "  for i in range(1, n):\n",
        "    total += i\n",
        "  return total\n",
        "print(\"total\")"
      ],
      "metadata": {
        "colab": {
          "base_uri": "https://localhost:8080/"
        },
        "id": "jPbCFBRo56Mu",
        "outputId": "be1cba91-7fb0-4263-fe60-199c52b46740"
      },
      "execution_count": 8,
      "outputs": [
        {
          "output_type": "stream",
          "name": "stdout",
          "text": [
            "total\n"
          ]
        }
      ]
    },
    {
      "cell_type": "markdown",
      "source": [
        "Task3"
      ],
      "metadata": {
        "id": "DTz_RkpU7jY5"
      }
    },
    {
      "cell_type": "code",
      "source": [
        "class User:\n",
        "  def __init__(self, name):\n",
        "    self.name = name\n",
        "\n",
        "u = User(\"Alice\")\n",
        "print(u.name)"
      ],
      "metadata": {
        "colab": {
          "base_uri": "https://localhost:8080/"
        },
        "id": "w8_Yk8au7pp_",
        "outputId": "bffca827-95f5-4441-d173-ebe244a1e5e7"
      },
      "execution_count": 12,
      "outputs": [
        {
          "output_type": "stream",
          "name": "stdout",
          "text": [
            "Alice\n"
          ]
        }
      ]
    },
    {
      "cell_type": "markdown",
      "source": [
        "Task4"
      ],
      "metadata": {
        "id": "IgmmiuDi8dM2"
      }
    },
    {
      "cell_type": "code",
      "source": [
        "class car:\n",
        "  def start(self):\n",
        "    print(\"Car started\")\n",
        "mycar = car()\n",
        "mycar.start()"
      ],
      "metadata": {
        "colab": {
          "base_uri": "https://localhost:8080/"
        },
        "id": "-2USGHG18fml",
        "outputId": "27b20155-7c8c-4b3c-fb30-1c0ec4ca4980"
      },
      "execution_count": 15,
      "outputs": [
        {
          "output_type": "stream",
          "name": "stdout",
          "text": [
            "Car started\n"
          ]
        }
      ]
    },
    {
      "cell_type": "markdown",
      "source": [
        "Task5"
      ],
      "metadata": {
        "id": "35HhDsZJ9IR7"
      }
    },
    {
      "cell_type": "code",
      "source": [
        "def grade_student(score):\n",
        "  if score >= 40:\n",
        "    return \"A\"\n",
        "  elif score <= 80:\n",
        "    return \"B\"\n",
        "  else:\n",
        "    return \"C\"\n",
        "print(grade_student(75))"
      ],
      "metadata": {
        "colab": {
          "base_uri": "https://localhost:8080/"
        },
        "id": "2ofqtUT29Gpx",
        "outputId": "2331ee40-4022-4501-c06b-c88165b41789"
      },
      "execution_count": 19,
      "outputs": [
        {
          "output_type": "stream",
          "name": "stdout",
          "text": [
            "A\n"
          ]
        }
      ]
    }
  ]
}