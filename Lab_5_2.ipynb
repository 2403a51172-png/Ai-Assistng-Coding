{
  "nbformat": 4,
  "nbformat_minor": 0,
  "metadata": {
    "colab": {
      "provenance": [],
      "authorship_tag": "ABX9TyOQgHpUtZ6i41UbaBKKyGx+",
      "include_colab_link": true
    },
    "kernelspec": {
      "name": "python3",
      "display_name": "Python 3"
    },
    "language_info": {
      "name": "python"
    }
  },
  "cells": [
    {
      "cell_type": "markdown",
      "metadata": {
        "id": "view-in-github",
        "colab_type": "text"
      },
      "source": [
        "<a href=\"https://colab.research.google.com/github/harshitha-reddy-06/Ai-Assistng-Coding/blob/main/Lab_5_2.ipynb\" target=\"_parent\"><img src=\"https://colab.research.google.com/assets/colab-badge.svg\" alt=\"Open In Colab\"/></a>"
      ]
    },
    {
      "cell_type": "markdown",
      "source": [
        "Task1"
      ],
      "metadata": {
        "id": "h6UOhnKD61zd"
      }
    },
    {
      "cell_type": "markdown",
      "source": [
        "Use an AI tool (e.g., Copilot, Gemini, Cursor) to generate a login system. Review the\n",
        "generated code for hardcoded passwords, plain-text storage, or lack of encryption."
      ],
      "metadata": {
        "id": "2cHepdgP7RXs"
      }
    },
    {
      "cell_type": "code",
      "metadata": {
        "colab": {
          "base_uri": "https://localhost:8080/"
        },
        "id": "b6861e91",
        "outputId": "4eef55ff-7a52-4911-a234-a9a808837ab8"
      },
      "source": [
        "def login(username, password):\n",
        "\n",
        "    users = {\n",
        "        \"admin\": \"password123\",\n",
        "        \"user\": \"secure_password\"\n",
        "    }\n",
        "    if username in users and users[username] == password:\n",
        "        return True\n",
        "    else:\n",
        "        return False\n",
        "\n",
        "input_username = \"admin\"\n",
        "input_password = \"password123\"\n",
        "\n",
        "if login(input_username, input_password):\n",
        "    print(\"Login successful!\")\n",
        "else:\n",
        "    print(\"Login failed.\")"
      ],
      "execution_count": null,
      "outputs": [
        {
          "output_type": "stream",
          "name": "stdout",
          "text": [
            "Login successful!\n"
          ]
        }
      ]
    },
    {
      "cell_type": "markdown",
      "source": [
        "Task2"
      ],
      "metadata": {
        "id": "d31TGL2D7X8Y"
      }
    },
    {
      "cell_type": "markdown",
      "source": [
        "Use prompt variations like: “loan approval for John”, “loan approval for Priya”, etc.\n",
        "Evaluate whether the AI-generated logic exhibits bias or differing criteria based on\n",
        "names or genders."
      ],
      "metadata": {
        "id": "y01uuNlu7Xfp"
      }
    },
    {
      "cell_type": "code",
      "metadata": {
        "colab": {
          "base_uri": "https://localhost:8080/"
        },
        "id": "1f51a14f",
        "outputId": "0a3c7ea6-4cab-44ad-a357-5c5f3f2bbb00"
      },
      "source": [
        "def approve_loan(name, credit_score, income):\n",
        "\n",
        "  min_credit_score = 300\n",
        "  min_income = 3000\n",
        "\n",
        "  if credit_score >= min_credit_score and income >= min_income:\n",
        "    return True\n",
        "  else:\n",
        "    return False\n",
        "credit_score = int(input(\"Enter the credit score:\"))\n",
        "income = int(input(\"Enter the income:\"))\n",
        "\n",
        "name1 = \"John\"\n",
        "name2 = \"Priya\"\n",
        "\n",
        "approval_john = approve_loan(name1, credit_score, income)\n",
        "approval_priya = approve_loan(name2, credit_score, income)\n",
        "\n",
        "print(f\"Loan approval for {name1}: {approval_john}\")\n",
        "print(f\"Loan approval for {name2}: {approval_priya}\")"
      ],
      "execution_count": null,
      "outputs": [
        {
          "output_type": "stream",
          "name": "stdout",
          "text": [
            "Enter the credit score:500\n",
            "Enter the income:4900\n",
            "Loan approval for John: True\n",
            "Loan approval for Priya: True\n"
          ]
        }
      ]
    },
    {
      "cell_type": "markdown",
      "source": [
        "Task3"
      ],
      "metadata": {
        "id": "m46WOhot92O2"
      }
    },
    {
      "cell_type": "markdown",
      "source": [
        "Write prompt to write function calculate the nth Fibonacci number using recursion\n",
        "and generate comments and explain code document."
      ],
      "metadata": {
        "id": "PZ6NpDJF916R"
      }
    },
    {
      "cell_type": "code",
      "source": [],
      "metadata": {
        "id": "djBooI4091ZN"
      },
      "execution_count": null,
      "outputs": []
    },
    {
      "cell_type": "code",
      "metadata": {
        "colab": {
          "base_uri": "https://localhost:8080/"
        },
        "id": "06916fe0",
        "outputId": "542aabdb-65d6-482d-db4b-3d184404fcc8"
      },
      "source": [
        "def fibonacci_recursive(n):\n",
        "\n",
        "\n",
        "  if n <= 0:\n",
        "\n",
        "    return 0\n",
        "  elif n == 1:\n",
        "\n",
        "    return 1\n",
        "  else:\n",
        "\n",
        "    return fibonacci_recursive(n - 1) + fibonacci_recursive(n - 2)\n",
        "\n",
        "num = int(input(\"Enter the number:\"))\n",
        "result = fibonacci_recursive(num)\n",
        "print(f\"The {num}th Fibonacci number is: {result}\")"
      ],
      "execution_count": null,
      "outputs": [
        {
          "output_type": "stream",
          "name": "stdout",
          "text": [
            "Enter the number:12\n",
            "The 12th Fibonacci number is: 144\n"
          ]
        }
      ]
    },
    {
      "cell_type": "markdown",
      "source": [
        "Task 4"
      ],
      "metadata": {
        "id": "RuSwtmPPjpfl"
      }
    },
    {
      "cell_type": "markdown",
      "source": [
        "Ask to generate a job applicant scoring system based on input features (e.g.,\n",
        "education, experience, gender, age). Analyze the scoring logic for bias or unfair\n",
        "weightings"
      ],
      "metadata": {
        "id": "66q_ir0ojsRn"
      }
    },
    {
      "cell_type": "code",
      "source": [],
      "metadata": {
        "id": "JWGkICG3jytA"
      },
      "execution_count": null,
      "outputs": []
    },
    {
      "cell_type": "code",
      "metadata": {
        "colab": {
          "base_uri": "https://localhost:8080/"
        },
        "id": "f7b12756",
        "outputId": "58db028f-c537-4e62-b4b9-2a5dbd7e120a"
      },
      "source": [
        "def score_applicant(education, experience, gender, age):\n",
        "\n",
        "    score = 0\n",
        "\n",
        "    # Education scoring\n",
        "    education_scores = {\n",
        "        \"high school\": 10,\n",
        "        \"bachelor's\": 20,\n",
        "        \"master's\": 30,\n",
        "        \"phd\": 40\n",
        "    }\n",
        "    score += education_scores.get(education.lower(), 0)\n",
        "\n",
        "    # Experience scoring (linear)\n",
        "    score += experience * 5\n",
        "\n",
        "    # Gender scoring (potentially biased, for demonstration)\n",
        "    if gender.lower() == \"female\":\n",
        "        score += 5  # Example of potential bias\n",
        "    elif gender.lower() == \"male\":\n",
        "        score += 3\n",
        "    else:\n",
        "        score += 4\n",
        "\n",
        "    # Age scoring (potentially biased, for demonstration)\n",
        "    if age < 25:\n",
        "        score += 2\n",
        "    elif age >= 25 and age < 40:\n",
        "        score += 5\n",
        "    else:\n",
        "        score += 3\n",
        "\n",
        "    return score\n",
        "\n",
        "applicant1_score = score_applicant(\"bachelor's\", 3, \"female\", 28)\n",
        "applicant2_score = score_applicant(\"master's\", 7, \"male\", 35)\n",
        "applicant3_score = score_applicant(\"phd\", 10, \"non-binary\", 45)\n",
        "\n",
        "\n",
        "print(f\"Applicant 1 Score: {applicant1_score}\")\n",
        "print(f\"Applicant 2 Score: {applicant2_score}\")\n",
        "print(f\"Applicant 3 Score: {applicant3_score}\")"
      ],
      "execution_count": 2,
      "outputs": [
        {
          "output_type": "stream",
          "name": "stdout",
          "text": [
            "Applicant 1 Score: 45\n",
            "Applicant 2 Score: 73\n",
            "Applicant 3 Score: 97\n"
          ]
        }
      ]
    },
    {
      "cell_type": "markdown",
      "source": [
        "Task 5"
      ],
      "metadata": {
        "id": "HerXDjIlkCVG"
      }
    },
    {
      "cell_type": "markdown",
      "source": [
        "Code snippet"
      ],
      "metadata": {
        "id": "27esK-REkEdr"
      }
    },
    {
      "cell_type": "code",
      "source": [
        "def greet_user(name, gender):\n",
        "\n",
        "  if gender.lower() == \"male\":\n",
        "    title = \"Mr.\"\n",
        "  elif gender.lower() == \"female\":\n",
        "    title = \"Ms.\" # Using Ms. as a common neutral option for female\n",
        "  else:\n",
        "    title = \"\" # No title for gender-neutral\n",
        "\n",
        "  if title:\n",
        "    return f\"Hello, {title} {name}! Welcome.\"\n",
        "  else:\n",
        "    return f\"Hello, {name}! Welcome.\"\n",
        "\n",
        "print(greet_user(\"John\", \"male\"))\n",
        "print(greet_user(\"Jane\", \"female\"))\n",
        "print(greet_user(\"Alex\", \"neutral\"))\n",
        "print(greet_user(\"Sam\", \"non-binary\")) # Example with an unhandled gender"
      ],
      "metadata": {
        "colab": {
          "base_uri": "https://localhost:8080/"
        },
        "id": "FYa_eYUhkVda",
        "outputId": "1a198591-cbcc-4a86-dc06-1c79b2686ce5"
      },
      "execution_count": 4,
      "outputs": [
        {
          "output_type": "stream",
          "name": "stdout",
          "text": [
            "Hello, Mr. John! Welcome.\n",
            "Hello, Ms. Jane! Welcome.\n",
            "Hello, Alex! Welcome.\n",
            "Hello, Sam! Welcome.\n"
          ]
        }
      ]
    }
  ]
}