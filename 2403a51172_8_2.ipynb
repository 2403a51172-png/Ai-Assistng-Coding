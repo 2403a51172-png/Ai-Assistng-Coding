{
  "nbformat": 4,
  "nbformat_minor": 0,
  "metadata": {
    "colab": {
      "provenance": [],
      "authorship_tag": "ABX9TyPpa7xtwjcYWO/tXYx82shZ",
      "include_colab_link": true
    },
    "kernelspec": {
      "name": "python3",
      "display_name": "Python 3"
    },
    "language_info": {
      "name": "python"
    }
  },
  "cells": [
    {
      "cell_type": "markdown",
      "metadata": {
        "id": "view-in-github",
        "colab_type": "text"
      },
      "source": [
        "<a href=\"https://colab.research.google.com/github/2403a51172-png/Ai-Assistng-Coding/blob/main/2403a51172_8_2.ipynb\" target=\"_parent\"><img src=\"https://colab.research.google.com/assets/colab-badge.svg\" alt=\"Open In Colab\"/></a>"
      ]
    },
    {
      "cell_type": "markdown",
      "source": [
        "Task1: Use AI to generate test cases for a function is_prime(n) and then implement the\n",
        "function.\n",
        "Requirements:\n",
        "• Only integers > 1 can be prime.\n",
        "•\n",
        "Check edge cases: 0, 1, 2, negative numbers, and large primes."
      ],
      "metadata": {
        "id": "4bLoDPQHZHca"
      }
    },
    {
      "cell_type": "code",
      "execution_count": 3,
      "metadata": {
        "id": "0YNpVjBfYLJ_"
      },
      "outputs": [],
      "source": [
        "# Use AI to generate test cases for a function is_prime(n) and then implement the\n",
        "# function.\n",
        "# Requirements:\n",
        "# Only integers > 1 can be prime.\n",
        "# Check edge cases: 0, 1, 2, negative numbers, and large primes."
      ]
    },
    {
      "cell_type": "code",
      "metadata": {
        "id": "5ccb0141"
      },
      "source": [
        "# Generate test cases based on the requirements\n",
        "\n",
        "test_cases = [\n",
        "    (0, False), # Only integers > 1 can be prime\n",
        "    (1, False), # Only integers > 1 can be prime\n",
        "    (2, True),  # 2 is the only even prime number\n",
        "    (3, True),\n",
        "    (4, False),\n",
        "    (5, True),\n",
        "    (10, False),\n",
        "    (17, True),\n",
        "    (-5, False), # Negative numbers are not prime\n",
        "    (97, True),  # A large prime\n",
        "    (100, False)\n",
        "]"
      ],
      "execution_count": 4,
      "outputs": []
    },
    {
      "cell_type": "code",
      "metadata": {
        "colab": {
          "base_uri": "https://localhost:8080/"
        },
        "id": "4e55507c",
        "outputId": "191f3086-bfcb-4607-e2b9-f5b31a8c3ae6"
      },
      "source": [
        "def is_prime(n):\n",
        "    \"\"\"\n",
        "    Checks if a number is prime.\n",
        "\n",
        "    Args:\n",
        "        n: The integer to check.\n",
        "\n",
        "    Returns:\n",
        "        True if the number is prime, False otherwise.\n",
        "    \"\"\"\n",
        "    # Only integers greater than 1 can be prime\n",
        "    if not isinstance(n, int) or n <= 1:\n",
        "        return False\n",
        "\n",
        "    # 2 is the only even prime number\n",
        "    if n == 2:\n",
        "        return True\n",
        "\n",
        "    # All other even numbers are not prime\n",
        "    if n % 2 == 0:\n",
        "        return False\n",
        "\n",
        "    # Check for odd divisors from 3 up to the square root of n\n",
        "    # We only need to check odd numbers because we've already excluded even numbers\n",
        "    i = 3\n",
        "    while i * i <= n:\n",
        "        if n % i == 0:\n",
        "            return False\n",
        "        i += 2\n",
        "\n",
        "    return True\n",
        "\n",
        "# Test the function with the generated test cases\n",
        "for number, expected in test_cases:\n",
        "    result = is_prime(number)\n",
        "    assert result == expected, f\"Input: {number}, Expected: {expected}, Got: {result}\"\n",
        "    print(f\"Test case {number}: Passed\")"
      ],
      "execution_count": 5,
      "outputs": [
        {
          "output_type": "stream",
          "name": "stdout",
          "text": [
            "Test case 0: Passed\n",
            "Test case 1: Passed\n",
            "Test case 2: Passed\n",
            "Test case 3: Passed\n",
            "Test case 4: Passed\n",
            "Test case 5: Passed\n",
            "Test case 10: Passed\n",
            "Test case 17: Passed\n",
            "Test case -5: Passed\n",
            "Test case 97: Passed\n",
            "Test case 100: Passed\n"
          ]
        }
      ]
    },
    {
      "cell_type": "markdown",
      "source": [
        "task2:\n",
        "Ask AI to generate test cases for celsius_to_fahrenheit(c) and fahrenheit_to_celsius(f).\n",
        "Requirements\n",
        "• Validate known pairs: 0°C = 32°F, 100°C = 212°F.\n",
        "• Include decimals and invalid inputs like strings or None"
      ],
      "metadata": {
        "id": "2-SNMXJrZXZZ"
      }
    },
    {
      "cell_type": "code",
      "source": [
        "# Ask AI to generate test cases for celsius_to_fahrenheit(c) and fahrenheit_to_celsius(f).\n",
        "# Requirements\n",
        "# Validate known pairs: 0°C = 32°F, 100°C = 212°F.\n",
        "# Include decimals and invalid inputs like strings or None"
      ],
      "metadata": {
        "id": "tbpqHGJYZba5"
      },
      "execution_count": 7,
      "outputs": []
    },
    {
      "cell_type": "code",
      "metadata": {
        "id": "023525ae"
      },
      "source": [
        "# Generate test cases based on the requirements\n",
        "\n",
        "celsius_test_cases = [\n",
        "    (0, 32.0),      # Known pair\n",
        "    (100, 212.0),   # Known pair\n",
        "    (25.5, 77.9),   # Decimal\n",
        "    (-10, 14.0),\n",
        "    (\"abc\", None),  # Invalid input (string)\n",
        "    (None, None)    # Invalid input (None)\n",
        "]\n",
        "\n",
        "fahrenheit_test_cases = [\n",
        "    (32, 0.0),      # Known pair\n",
        "    (212, 100.0),   # Known pair\n",
        "    (77.9, 25.5),   # Decimal\n",
        "    (14, -10.0),\n",
        "    (\"xyz\", None),  # Invalid input (string)\n",
        "    (None, None)    # Invalid input (None)\n",
        "]"
      ],
      "execution_count": 8,
      "outputs": []
    },
    {
      "cell_type": "code",
      "metadata": {
        "colab": {
          "base_uri": "https://localhost:8080/"
        },
        "id": "10946e31",
        "outputId": "d84208e2-efa4-4d62-f3b1-8f429dd9972b"
      },
      "source": [
        "def celsius_to_fahrenheit(celsius):\n",
        "    \"\"\"\n",
        "    Converts Celsius to Fahrenheit.\n",
        "\n",
        "    Args:\n",
        "        celsius: The temperature in Celsius.\n",
        "\n",
        "    Returns:\n",
        "        The temperature in Fahrenheit, or None for invalid input.\n",
        "    \"\"\"\n",
        "    if not isinstance(celsius, (int, float)):\n",
        "        return None\n",
        "    return (celsius * 9/5) + 32\n",
        "\n",
        "def fahrenheit_to_celsius(fahrenheit):\n",
        "    \"\"\"\n",
        "    Converts Fahrenheit to Celsius.\n",
        "\n",
        "    Args:\n",
        "        fahrenheit: The temperature in Fahrenheit.\n",
        "\n",
        "    Returns:\n",
        "        The temperature in Celsius, or None for invalid input.\n",
        "    \"\"\"\n",
        "    if not isinstance(fahrenheit, (int, float)):\n",
        "        return None\n",
        "    return (fahrenheit - 32) * 5/9\n",
        "\n",
        "# Test the functions with the generated test cases\n",
        "import math\n",
        "\n",
        "print(\"Testing celsius_to_fahrenheit:\")\n",
        "for celsius, expected in celsius_test_cases:\n",
        "    result = celsius_to_fahrenheit(celsius)\n",
        "    if expected is None:\n",
        "        assert result is None, f\"Input: {celsius}, Expected: {expected}, Got: {result}\"\n",
        "    else:\n",
        "        assert math.isclose(result, expected, rel_tol=1e-9), f\"Input: {celsius}, Expected: {expected}, Got: {result}\"\n",
        "    print(f\"Test case {celsius}: Passed\")\n",
        "\n",
        "print(\"\\nTesting fahrenheit_to_celsius:\")\n",
        "for fahrenheit, expected in fahrenheit_test_cases:\n",
        "    result = fahrenheit_to_celsius(fahrenheit)\n",
        "    if expected is None:\n",
        "        assert result is None, f\"Input: {fahrenheit}, Expected: {expected}, Got: {result}\"\n",
        "    else:\n",
        "        assert math.isclose(result, expected, rel_tol=1e-9), f\"Input: {fahrenheit}, Expected: {expected}, Got: {result}\"\n",
        "    print(f\"Test case {fahrenheit}: Passed\")"
      ],
      "execution_count": 10,
      "outputs": [
        {
          "output_type": "stream",
          "name": "stdout",
          "text": [
            "Testing celsius_to_fahrenheit:\n",
            "Test case 0: Passed\n",
            "Test case 100: Passed\n",
            "Test case 25.5: Passed\n",
            "Test case -10: Passed\n",
            "Test case abc: Passed\n",
            "Test case None: Passed\n",
            "\n",
            "Testing fahrenheit_to_celsius:\n",
            "Test case 32: Passed\n",
            "Test case 212: Passed\n",
            "Test case 77.9: Passed\n",
            "Test case 14: Passed\n",
            "Test case xyz: Passed\n",
            "Test case None: Passed\n"
          ]
        }
      ]
    },
    {
      "cell_type": "markdown",
      "source": [
        "task3:Use AI to write test cases for a function count_words(text) that returns the number of\n",
        "words in a sentence.\n",
        "Requirement\n",
        "Handle normal text, multiple spaces, punctuation, and empty strings"
      ],
      "metadata": {
        "id": "SMcWoKLEadqx"
      }
    },
    {
      "cell_type": "code",
      "source": [
        "# Use AI to write test cases for a function count_words(text) that returns the number of\n",
        "# words in a sentence.\n",
        "# Requirement\n",
        "# Handle normal text, multiple spaces, punctuation, and empty strings"
      ],
      "metadata": {
        "id": "vMhGW5JOajVx"
      },
      "execution_count": 12,
      "outputs": []
    },
    {
      "cell_type": "markdown",
      "source": [
        "task3:\n",
        "write test cases for a function count_words(text) that returns the number of\n",
        "words in a sentence."
      ],
      "metadata": {
        "id": "ipmnupbSdDJq"
      }
    },
    {
      "cell_type": "code",
      "source": [
        "# Use AI to write test cases for a function count_words(text) that returns the number of\n",
        "# words in a sentence.\n",
        "# Requirement\n",
        "# Handle normal text, multiple spaces, punctuation, and empty strings"
      ],
      "metadata": {
        "id": "Dc_I-oaldGRY"
      },
      "execution_count": 36,
      "outputs": []
    },
    {
      "cell_type": "code",
      "source": [
        "def count_words(text):\n",
        "    words = text.split()\n",
        "    return len(words)\n",
        "# Test cases\n",
        "print(count_words(\"Hello world!\"))  # Output: 2\n",
        "print(count_words(\"This is a test.\"))  # Output: 5\n",
        "print(count_words(\"\"))  # Output: 0# Write a Python function that takes a string and returns:"
      ],
      "metadata": {
        "colab": {
          "base_uri": "https://localhost:8080/"
        },
        "id": "8phP5G0phE1W",
        "outputId": "91fedd54-9979-4485-9624-13db704869a8"
      },
      "execution_count": 43,
      "outputs": [
        {
          "output_type": "stream",
          "name": "stdout",
          "text": [
            "2\n",
            "4\n",
            "0\n"
          ]
        }
      ]
    },
    {
      "cell_type": "markdown",
      "source": [
        "task4:generate test cases for a BankAccount class with:\n",
        "Methods:\n",
        "deposit(amount)\n",
        "withdraw(amount)\n",
        "check_balance()\n",
        "Requirements:\n",
        "• Negative deposits/withdrawals should raise an error.\n",
        "• Cannot withdraw more than balance."
      ],
      "metadata": {
        "id": "MZjawvzGhUcC"
      }
    },
    {
      "cell_type": "code",
      "source": [
        "# generate test cases for a BankAccount class with:\n",
        "# Methods:\n",
        "# deposit(amount)\n",
        "# withdraw(amount)\n",
        "# check_balance()\n",
        "# Requirements:\n",
        "# Negative deposits/withdrawals should raise an error.\n",
        "# Cannot withdraw more than balance."
      ],
      "metadata": {
        "id": "9RByaf22hcc4"
      },
      "execution_count": 45,
      "outputs": []
    },
    {
      "cell_type": "code",
      "metadata": {
        "id": "45098c77"
      },
      "source": [
        "# Generate test cases for the BankAccount class\n",
        "\n",
        "import unittest\n",
        "\n",
        "class TestBankAccount(unittest.TestCase):\n",
        "\n",
        "    def test_initial_balance(self):\n",
        "        account = BankAccount()\n",
        "        self.assertEqual(account.check_balance(), 0)\n",
        "\n",
        "    def test_deposit(self):\n",
        "        account = BankAccount()\n",
        "        account.deposit(100)\n",
        "        self.assertEqual(account.check_balance(), 100)\n",
        "\n",
        "    def test_multiple_deposits(self):\n",
        "        account = BankAccount()\n",
        "        account.deposit(100)\n",
        "        account.deposit(50)\n",
        "        self.assertEqual(account.check_balance(), 150)\n",
        "\n",
        "    def test_negative_deposit_raises_error(self):\n",
        "        account = BankAccount()\n",
        "        with self.assertRaises(ValueError):\n",
        "            account.deposit(-50)\n",
        "        self.assertEqual(account.check_balance(), 0) # Balance should remain unchanged\n",
        "\n",
        "    def test_withdraw(self):\n",
        "        account = BankAccount()\n",
        "        account.deposit(200)\n",
        "        account.withdraw(50)\n",
        "        self.assertEqual(account.check_balance(), 150)\n",
        "\n",
        "    def test_multiple_withdrawals(self):\n",
        "        account = BankAccount()\n",
        "        account.deposit(300)\n",
        "        account.withdraw(50)\n",
        "        account.withdraw(100)\n",
        "        self.assertEqual(account.check_balance(), 150)\n",
        "\n",
        "    def test_withdraw_more_than_balance_raises_error(self):\n",
        "        account = BankAccount()\n",
        "        account.deposit(100)\n",
        "        with self.assertRaises(ValueError):\n",
        "            account.withdraw(150)\n",
        "        self.assertEqual(account.check_balance(), 100) # Balance should remain unchanged\n",
        "\n",
        "    def test_negative_withdrawal_raises_error(self):\n",
        "        account = BankAccount()\n",
        "        account.deposit(100)\n",
        "        with self.assertRaises(ValueError):\n",
        "            account.withdraw(-50)\n",
        "        self.assertEqual(account.check_balance(), 100) # Balance should remain unchanged\n",
        "\n",
        "    def test_withdraw_exactly_balance(self):\n",
        "        account = BankAccount()\n",
        "        account.deposit(100)\n",
        "        account.withdraw(100)\n",
        "        self.assertEqual(account.check_balance(), 0)\n",
        "\n",
        "    def test_deposit_zero(self):\n",
        "        account = BankAccount()\n",
        "        account.deposit(0)\n",
        "        self.assertEqual(account.check_balance(), 0)\n",
        "\n",
        "    def test_withdraw_zero(self):\n",
        "        account = BankAccount()\n",
        "        account.deposit(100)\n",
        "        account.withdraw(0)\n",
        "        self.assertEqual(account.check_balance(), 100)"
      ],
      "execution_count": 51,
      "outputs": []
    },
    {
      "cell_type": "code",
      "metadata": {
        "id": "712f3540"
      },
      "source": [
        "class BankAccount:\n",
        "    \"\"\"\n",
        "    A simple bank account class.\n",
        "    \"\"\"\n",
        "    def __init__(self):\n",
        "        self._balance = 0.0\n",
        "\n",
        "    def deposit(self, amount):\n",
        "        \"\"\"Deposits money into the account.\"\"\"\n",
        "        if amount < 0:\n",
        "            raise ValueError(\"Deposit amount cannot be negative\")\n",
        "        self._balance += amount\n",
        "\n",
        "    def withdraw(self, amount):\n",
        "        \"\"\"Withdraws money from the account.\"\"\"\n",
        "        if amount < 0:\n",
        "            raise ValueError(\"Withdrawal amount cannot be negative\")\n",
        "        if amount > self._balance:\n",
        "            raise ValueError(\"Cannot withdraw more than current balance\")\n",
        "        self._balance -= amount\n",
        "\n",
        "    def check_balance(self):\n",
        "        \"\"\"Returns the current account balance.\"\"\"\n",
        "        return self._balance"
      ],
      "execution_count": 47,
      "outputs": []
    },
    {
      "cell_type": "code",
      "metadata": {
        "colab": {
          "base_uri": "https://localhost:8080/"
        },
        "id": "0f1aa9b8",
        "outputId": "38065e94-5e63-4d29-e048-335eabb7457c"
      },
      "source": [
        "# Run the unit tests\n",
        "import io\n",
        "import sys\n",
        "import unittest\n",
        "\n",
        "if __name__ == \"__main__\":\n",
        "    # Create a test suite\n",
        "    suite = unittest.TestSuite()\n",
        "    suite.addTest(unittest.makeSuite(TestBankAccount))\n",
        "\n",
        "    # Run the tests using a TextTestRunner to capture the output\n",
        "    stdout = io.StringIO()\n",
        "    runner = unittest.TextTestRunner(stream=stdout, verbosity=2)\n",
        "    result = runner.run(suite)\n",
        "\n",
        "    # Print the captured output\n",
        "    print(stdout.getvalue())\n",
        "\n",
        "    # Optionally, you can check the result object for test success/failure\n",
        "    if result.wasSuccessful():\n",
        "        print(\"\\nAll tests passed!\")\n",
        "    else:\n",
        "        print(\"\\nSome tests failed.\")"
      ],
      "execution_count": 48,
      "outputs": [
        {
          "output_type": "stream",
          "name": "stdout",
          "text": [
            "test_deposit (__main__.TestBankAccount.test_deposit) ... ok\n",
            "test_deposit_zero (__main__.TestBankAccount.test_deposit_zero) ... ok\n",
            "test_initial_balance (__main__.TestBankAccount.test_initial_balance) ... ok\n",
            "test_multiple_deposits (__main__.TestBankAccount.test_multiple_deposits) ... ok\n",
            "test_multiple_withdrawals (__main__.TestBankAccount.test_multiple_withdrawals) ... ok\n",
            "test_negative_deposit_raises_error (__main__.TestBankAccount.test_negative_deposit_raises_error) ... ok\n",
            "test_negative_withdrawal_raises_error (__main__.TestBankAccount.test_negative_withdrawal_raises_error) ... ok\n",
            "test_withdraw (__main__.TestBankAccount.test_withdraw) ... ok\n",
            "test_withdraw_exactly_balance (__main__.TestBankAccount.test_withdraw_exactly_balance) ... ok\n",
            "test_withdraw_more_than_balance_raises_error (__main__.TestBankAccount.test_withdraw_more_than_balance_raises_error) ... ok\n",
            "test_withdraw_zero (__main__.TestBankAccount.test_withdraw_zero) ... ok\n",
            "\n",
            "----------------------------------------------------------------------\n",
            "Ran 11 tests in 0.001s\n",
            "\n",
            "OK\n",
            "\n",
            "\n",
            "All tests passed!\n"
          ]
        },
        {
          "output_type": "stream",
          "name": "stderr",
          "text": [
            "/tmp/ipython-input-256224336.py:9: DeprecationWarning: unittest.makeSuite() is deprecated and will be removed in Python 3.13. Please use unittest.TestLoader.loadTestsFromTestCase() instead.\n",
            "  suite.addTest(unittest.makeSuite(TestBankAccount))\n"
          ]
        }
      ]
    },
    {
      "cell_type": "markdown",
      "source": [
        "tasak 5:\n",
        "Generate test cases for is_number_palindrome(num), which checks if an integer reads\n",
        "the same backward.\n",
        "Examples:\n",
        "121 → True\n",
        "123 → False\n",
        "0, negative numbers → handled gracefully"
      ],
      "metadata": {
        "id": "-wncH0haj8Gg"
      }
    },
    {
      "cell_type": "code",
      "source": [
        "# Generate test cases for is_number_palindrome(num), which checks if an integer reads\n",
        "# the same backward.\n",
        "# Examples:\n",
        "# 121 -> True\n",
        "# 123 -> False\n",
        "# 0, negative numbers -> handled gracefully"
      ],
      "metadata": {
        "id": "I1btSNUfj-dQ"
      },
      "execution_count": 53,
      "outputs": []
    },
    {
      "cell_type": "code",
      "metadata": {
        "id": "710c5447"
      },
      "source": [
        "# Generate test cases for is_number_palindrome(num)\n",
        "\n",
        "is_number_palindrome_test_cases = [\n",
        "    (121, True),      # Example from requirements\n",
        "    (123, False),     # Example from requirements\n",
        "    (0, True),        # Handle 0\n",
        "    (-121, False),    # Handle negative numbers\n",
        "    (1221, True),     # Even number of digits\n",
        "    (1, True),        # Single digit\n",
        "    (10, False),      # Number ending in 0\n",
        "    (101, True),\n",
        "    (12345, False),\n",
        "    (98789, True),\n",
        "    (123321, True),\n",
        "    (123456, False)\n",
        "]"
      ],
      "execution_count": 54,
      "outputs": []
    },
    {
      "cell_type": "code",
      "metadata": {
        "colab": {
          "base_uri": "https://localhost:8080/"
        },
        "id": "a93ff387",
        "outputId": "249c5b28-f92d-4102-90bd-19511b7c20e0"
      },
      "source": [
        "def is_number_palindrome(num):\n",
        "    \"\"\"\n",
        "    Checks if an integer reads the same backward.\n",
        "\n",
        "    Args:\n",
        "        num: The integer to check.\n",
        "\n",
        "    Returns:\n",
        "        True if the number is a palindrome, False otherwise.\n",
        "    \"\"\"\n",
        "    # Handle negative numbers and single digits\n",
        "    if num < 0:\n",
        "        return False\n",
        "    if 0 <= num < 10:\n",
        "        return True\n",
        "\n",
        "    # Convert the number to a string to easily compare forward and backward\n",
        "    num_str = str(num)\n",
        "    return num_str == num_str[::-1]\n",
        "\n",
        "# Test the function with the generated test cases\n",
        "print(\"Testing is_number_palindrome:\")\n",
        "for number, expected in is_number_palindrome_test_cases:\n",
        "    result = is_number_palindrome(number)\n",
        "    assert result == expected, f\"Input: {number}, Expected: {expected}, Got: {result}\"\n",
        "    print(f\"Test case {number}: Passed\")"
      ],
      "execution_count": 55,
      "outputs": [
        {
          "output_type": "stream",
          "name": "stdout",
          "text": [
            "Testing is_number_palindrome:\n",
            "Test case 121: Passed\n",
            "Test case 123: Passed\n",
            "Test case 0: Passed\n",
            "Test case -121: Passed\n",
            "Test case 1221: Passed\n",
            "Test case 1: Passed\n",
            "Test case 10: Passed\n",
            "Test case 101: Passed\n",
            "Test case 12345: Passed\n",
            "Test case 98789: Passed\n",
            "Test case 123321: Passed\n",
            "Test case 123456: Passed\n"
          ]
        }
      ]
    }
  ]
}