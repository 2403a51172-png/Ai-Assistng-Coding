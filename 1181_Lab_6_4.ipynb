{
  "nbformat": 4,
  "nbformat_minor": 0,
  "metadata": {
    "colab": {
      "provenance": [],
      "authorship_tag": "ABX9TyPdIeyEeToYo1gu2lPT/bfh",
      "include_colab_link": true
    },
    "kernelspec": {
      "name": "python3",
      "display_name": "Python 3"
    },
    "language_info": {
      "name": "python"
    }
  },
  "cells": [
    {
      "cell_type": "markdown",
      "metadata": {
        "id": "view-in-github",
        "colab_type": "text"
      },
      "source": [
        "<a href=\"https://colab.research.google.com/github/harshitha-reddy-06/Ai-Assistng-Coding/blob/main/1181_Lab_6_4.ipynb\" target=\"_parent\"><img src=\"https://colab.research.google.com/assets/colab-badge.svg\" alt=\"Open In Colab\"/></a>"
      ]
    },
    {
      "cell_type": "markdown",
      "source": [
        "Task 1\n",
        "  Step- write a class skelton"
      ],
      "metadata": {
        "id": "95W_zR3aWC3i"
      }
    },
    {
      "cell_type": "code",
      "execution_count": null,
      "metadata": {
        "colab": {
          "base_uri": "https://localhost:8080/"
        },
        "id": "blNG5IqzRprN",
        "outputId": "a0e2e76a-34de-45c5-f48c-b5f6e522c7fc"
      },
      "outputs": [
        {
          "output_type": "stream",
          "name": "stdout",
          "text": [
            "Aishu 101 85\n",
            "passed\n",
            "None\n",
            "failed\n",
            "None\n"
          ]
        }
      ],
      "source": [
        "class student:\n",
        "  def __init__(self,name,roll_no,marks):\n",
        "    self.name=name\n",
        "    self.roll_no=roll_no\n",
        "    self.marks=marks\n",
        "  def display_details(self):\n",
        "    print(self.name,self.roll_no,self.marks)\n",
        "  def is_passed(self):\n",
        "    if self.marks>40:\n",
        "      print(\"passed\")\n",
        "    else:\n",
        "      print(\"failed\")\n",
        "\n",
        "s1=student(\"Aishu\",101,85)\n",
        "s2=student(\"sai\",102,40)\n",
        "s1.display_details()\n",
        "print(s1.is_passed())\n",
        "print(s2.is_passed())"
      ]
    },
    {
      "cell_type": "markdown",
      "source": [
        "Task-2: Write the first two lines of a for loop to iterate through a list of numbers"
      ],
      "metadata": {
        "id": "rnFZSeYiWnD8"
      }
    },
    {
      "cell_type": "code",
      "source": [
        "numbers=[1,2,3,4,5]\n",
        "for n in numbers:\n",
        "  if n%2==0:\n",
        "    print(n**2)"
      ],
      "metadata": {
        "colab": {
          "base_uri": "https://localhost:8080/"
        },
        "id": "Z-W4860vYczA",
        "outputId": "1783db25-e3ad-4ddb-c1ae-a0dd27179ca9"
      },
      "execution_count": 16,
      "outputs": [
        {
          "output_type": "stream",
          "name": "stdout",
          "text": [
            "4\n",
            "16\n"
          ]
        }
      ]
    },
    {
      "cell_type": "markdown",
      "source": [
        "Task-3:Create a class called BankAccount with attributes account_holder and balance. Use Copilot to\n",
        "complete methods for deposit(), withdraw(), and check for insufficient balance"
      ],
      "metadata": {
        "id": "8k2MSsKEcCRh"
      }
    },
    {
      "cell_type": "code",
      "source": [
        "class BankAccount:\n",
        "    def __init__(self, account_holder, balance=0):\n",
        "        self.account_holder = account_holder\n",
        "        self.balance = balance\n",
        "\n",
        "    def deposit(self, amount):\n",
        "        if amount > 0:\n",
        "            self.balance += amount\n",
        "            print(f\"Deposited {amount}. New balance is {self.balance}\")\n",
        "        else:\n",
        "            print(\"Deposit amount must be positive.\")\n",
        "\n",
        "    def withdraw(self, amount):\n",
        "        if amount > 0:\n",
        "            if self.balance >= amount:\n",
        "                self.balance -= amount\n",
        "                print(f\"Withdrew {amount}. New balance is {self.balance}\")\n",
        "            else:\n",
        "                print(\"Insufficient balance.\")\n",
        "        else:\n",
        "            print(\"Withdrawal amount must be positive.\")\n",
        "\n",
        "    def check_insufficient_balance(self, amount):\n",
        "        return self.balance < amount\n",
        "\n",
        "\n",
        "account = BankAccount(\"John Doe\", 1000)\n",
        "account.deposit(500)\n",
        "account.withdraw(200)\n",
        "account.withdraw(2000)\n",
        "print(f\"Is withdrawal of 300 possible? {account.check_insufficient_balance(300)}\")\n",
        "print(f\"Is withdrawal of 1500 possible? {account.check_insufficient_balance(1500)}\")"
      ],
      "metadata": {
        "colab": {
          "base_uri": "https://localhost:8080/"
        },
        "id": "mNaYWksQcVCs",
        "outputId": "defe244b-11d0-47bb-a70c-969e275fa446"
      },
      "execution_count": 17,
      "outputs": [
        {
          "output_type": "stream",
          "name": "stdout",
          "text": [
            "Deposited 500. New balance is 1500\n",
            "Withdrew 200. New balance is 1300\n",
            "Insufficient balance.\n",
            "Is withdrawal of 300 possible? False\n",
            "Is withdrawal of 1500 possible? True\n"
          ]
        }
      ]
    },
    {
      "cell_type": "markdown",
      "source": [
        "Task4:Define a list of student dictionaries with keys name and score. Ask Copilot to write a while\n",
        "loop to print the names of students who scored more than 75"
      ],
      "metadata": {
        "id": "5-EVE58SdMZ0"
      }
    },
    {
      "cell_type": "code",
      "source": [],
      "metadata": {
        "id": "YzWWY8MTe1hU"
      },
      "execution_count": null,
      "outputs": []
    },
    {
      "cell_type": "code",
      "metadata": {
        "colab": {
          "base_uri": "https://localhost:8080/"
        },
        "id": "07040bc9",
        "outputId": "1919efbc-6c57-4a99-8fe5-47719b13291d"
      },
      "source": [
        "students = [\n",
        "    {\"name\": \"Alice\", \"score\": 80},\n",
        "    {\"name\": \"Bob\", \"score\": 70},\n",
        "    {\"name\": \"Charlie\", \"score\": 90},\n",
        "    {\"name\": \"David\", \"score\": 60},\n",
        "    {\"name\": \"Eve\", \"score\": 85}\n",
        "]\n",
        "\n",
        "i = 0\n",
        "while i < len(students):\n",
        "    if students[i][\"score\"] > 75:\n",
        "        print(students[i][\"name\"])\n",
        "    i += 1"
      ],
      "execution_count": 18,
      "outputs": [
        {
          "output_type": "stream",
          "name": "stdout",
          "text": [
            "Alice\n",
            "Charlie\n",
            "Eve\n"
          ]
        }
      ]
    },
    {
      "cell_type": "markdown",
      "source": [
        "Task-5: Begin writing a class ShoppingCart with an empty items list. Prompt Copilot to generate\n",
        "methods to add_item, remove_item, and use a loop to calculate the total bill using conditional\n",
        "discounts"
      ],
      "metadata": {
        "id": "i5vS0sj9f0xZ"
      }
    },
    {
      "cell_type": "code",
      "metadata": {
        "colab": {
          "base_uri": "https://localhost:8080/"
        },
        "id": "9b76bc67",
        "outputId": "eb42d9fc-da43-429c-c0b7-05a9c65120b9"
      },
      "source": [
        "class ShoppingCart:\n",
        "    def __init__(self):\n",
        "        self.items = []\n",
        "\n",
        "    def add_item(self, item_name, price, quantity=1):\n",
        "        \"\"\"Adds an item to the shopping cart.\"\"\"\n",
        "        self.items.append({\"name\": item_name, \"price\": price, \"quantity\": quantity})\n",
        "        print(f\"Added {quantity} x {item_name} to the cart.\")\n",
        "\n",
        "    def remove_item(self, item_name):\n",
        "        \"\"\"Removes an item from the shopping cart.\"\"\"\n",
        "        initial_item_count = len(self.items)\n",
        "        self.items = [item for item in self.items if item[\"name\"] != item_name]\n",
        "        if len(self.items) < initial_item_count:\n",
        "            print(f\"Removed all instances of {item_name} from the cart.\")\n",
        "        else:\n",
        "            print(f\"{item_name} not found in the cart.\")\n",
        "\n",
        "\n",
        "    def calculate_total(self):\n",
        "        \"\"\"Calculates the total bill with conditional discounts.\"\"\"\n",
        "        total = 0\n",
        "        for item in self.items:\n",
        "            item_price = item[\"price\"] * item[\"quantity\"]\n",
        "            print(f\"Calculating price for {item['name']}: {item['price']} * {item['quantity']} = {item_price}\")\n",
        "            # Apply a 10% discount if the item price is over 100\n",
        "            if item_price > 100:\n",
        "                discounted_price = item_price * 0.9\n",
        "                print(f\"Applying 10% discount. Original price: {item_price}, Discounted price: {discounted_price}\")\n",
        "                item_price = discounted_price\n",
        "            total += item_price\n",
        "            print(f\"Current total: {total}\")\n",
        "        return total\n",
        "\n",
        "print(\"Welcome to the Shopping Cart!\")\n",
        "cart = ShoppingCart()"
      ],
      "execution_count": 24,
      "outputs": [
        {
          "output_type": "stream",
          "name": "stdout",
          "text": [
            "Welcome to the Shopping Cart!\n"
          ]
        }
      ]
    }
  ]
}